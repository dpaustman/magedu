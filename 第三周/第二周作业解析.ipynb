{
 "cells": [
  {
   "cell_type": "code",
   "execution_count": 1,
   "metadata": {
    "collapsed": false
   },
   "outputs": [
    {
     "name": "stdout",
     "output_type": "stream",
     "text": [
      "[2, 3, 5, 7, 11, 13, 17, 19, 23, 29, 31, 37, 41, 43, 47, 53, 59, 61, 67, 71, 73, 79, 83, 89, 97]\n"
     ]
    }
   ],
   "source": [
    "ps = [2]\n",
    "\n",
    "for i in range(3, 100):\n",
    "    for x in ps:\n",
    "        if i % x == 0:\n",
    "            break\n",
    "    else:\n",
    "        ps.append(i)\n",
    "print(ps)"
   ]
  },
  {
   "cell_type": "code",
   "execution_count": null,
   "metadata": {
    "collapsed": true
   },
   "outputs": [],
   "source": [
    "      1              lst[0][0] = 1\n",
    "    1   1            lst[1][0] = 1  lst[1][-1] = 1\n",
    "  1   2   1          lst[2][0] = 1  lst[2][1] = 2 = lst[1][0] + lst[1][1]   lst[2][-1] = 1\n",
    "1   3   3    1       lst[3][0] = 1  lst[3][1] = lst[2][0] + lst[2][1] = 3 lst[3][2] = lst[2][1] + lst[2][2] = 3 lst[3][-1] = 1\n",
    "\n",
    "n: n+1\n"
   ]
  },
  {
   "cell_type": "code",
   "execution_count": 5,
   "metadata": {
    "collapsed": false
   },
   "outputs": [
    {
     "name": "stdout",
     "output_type": "stream",
     "text": [
      "15\n"
     ]
    }
   ],
   "source": [
    "n = 6\n",
    "k = 4\n",
    "lst = []\n",
    "for i in range(n+1):\n",
    "    row = [1]\n",
    "    lst.append(row)\n",
    "    if i == 0:\n",
    "        continue\n",
    "    for j in range(1, i):\n",
    "        row.append(lst[i-1][j-1] + lst[i-1][j])\n",
    "    row.append(1)\n",
    "\n",
    "print(lst[n][k])"
   ]
  },
  {
   "cell_type": "code",
   "execution_count": 9,
   "metadata": {
    "collapsed": false
   },
   "outputs": [
    {
     "name": "stdout",
     "output_type": "stream",
     "text": [
      "[[1, 4], [2, 5], [3, 6]]\n"
     ]
    }
   ],
   "source": [
    "a = [[1, 2, 3], [4, 5, 6]]\n",
    "\n",
    "ret = []\n",
    "\n",
    "for row in a:\n",
    "    for j, col in enumerate(row):\n",
    "        if len(ret) - 1 < j:\n",
    "            ret.append([])\n",
    "        ret[j].append(col)\n",
    "print(ret)"
   ]
  },
  {
   "cell_type": "code",
   "execution_count": null,
   "metadata": {
    "collapsed": true
   },
   "outputs": [],
   "source": []
  }
 ],
 "metadata": {
  "kernelspec": {
   "display_name": "Python 3",
   "language": "python",
   "name": "python3"
  },
  "language_info": {
   "codemirror_mode": {
    "name": "ipython",
    "version": 3
   },
   "file_extension": ".py",
   "mimetype": "text/x-python",
   "name": "python",
   "nbconvert_exporter": "python",
   "pygments_lexer": "ipython3",
   "version": "3.5.2"
  }
 },
 "nbformat": 4,
 "nbformat_minor": 2
}
