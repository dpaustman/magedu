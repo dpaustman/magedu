{
 "cells": [
  {
   "cell_type": "markdown",
   "metadata": {},
   "source": [
    "## 求100万以内的全部素数"
   ]
  },
  {
   "cell_type": "code",
   "execution_count": 20,
   "metadata": {
    "collapsed": false
   },
   "outputs": [
    {
     "name": "stdout",
     "output_type": "stream",
     "text": [
      "9592\n"
     ]
    }
   ],
   "source": [
    "c = 0\n",
    "for x in range(2, 100000):\n",
    "    for i in range(2, int(x ** 0.5)+1):\n",
    "        if x % i == 0:\n",
    "            break\n",
    "    else:\n",
    "        c += 1\n",
    "print(c)"
   ]
  },
  {
   "cell_type": "code",
   "execution_count": 21,
   "metadata": {
    "collapsed": false
   },
   "outputs": [
    {
     "name": "stdout",
     "output_type": "stream",
     "text": [
      "6138\n"
     ]
    }
   ],
   "source": [
    "a = 3\n",
    "q = 2\n",
    "n = 10\n",
    "\n",
    "sum = 0\n",
    "for i in range(1, n+1):\n",
    "    sum += a * q ** i\n",
    "print(sum)"
   ]
  },
  {
   "cell_type": "markdown",
   "metadata": {},
   "source": [
    "## 求菲波那切数列的第101项"
   ]
  },
  {
   "cell_type": "code",
   "execution_count": 25,
   "metadata": {
    "collapsed": false
   },
   "outputs": [
    {
     "name": "stdout",
     "output_type": "stream",
     "text": [
      "927372692193078999176\n"
     ]
    }
   ],
   "source": [
    "x = 0\n",
    "y = 0\n",
    "for i in range(0, 102):\n",
    "    if i ==  0:\n",
    "        y = 1\n",
    "    elif i == 1:\n",
    "        x = 1\n",
    "        y = 1\n",
    "    else:\n",
    "        tmp = y\n",
    "        y = x + y\n",
    "        x = tmp\n",
    "print(y)\n",
    "    "
   ]
  },
  {
   "cell_type": "markdown",
   "metadata": {},
   "source": [
    "## 问题"
   ]
  },
  {
   "cell_type": "markdown",
   "metadata": {},
   "source": [
    "变量在哪里定义的问题"
   ]
  },
  {
   "cell_type": "markdown",
   "metadata": {},
   "source": [
    "缩进级别"
   ]
  },
  {
   "cell_type": "code",
   "execution_count": null,
   "metadata": {
    "collapsed": true
   },
   "outputs": [],
   "source": []
  }
 ],
 "metadata": {
  "kernelspec": {
   "display_name": "Python 3",
   "language": "python",
   "name": "python3"
  },
  "language_info": {
   "codemirror_mode": {
    "name": "ipython",
    "version": 3
   },
   "file_extension": ".py",
   "mimetype": "text/x-python",
   "name": "python",
   "nbconvert_exporter": "python",
   "pygments_lexer": "ipython3",
   "version": "3.5.2"
  }
 },
 "nbformat": 4,
 "nbformat_minor": 2
}
